{
  "nbformat": 4,
  "nbformat_minor": 0,
  "metadata": {
    "colab": {
      "name": "lab5.ipynb",
      "provenance": [],
      "collapsed_sections": [],
      "include_colab_link": true
    },
    "kernelspec": {
      "name": "python3",
      "display_name": "Python 3"
    }
  },
  "cells": [
    {
      "cell_type": "markdown",
      "metadata": {
        "id": "view-in-github",
        "colab_type": "text"
      },
      "source": [
        "<a href=\"https://colab.research.google.com/github/nakata5321/-_firstLevel/blob/master/lab5/lab5.ipynb\" target=\"_parent\"><img src=\"https://colab.research.google.com/assets/colab-badge.svg\" alt=\"Open In Colab\"/></a>"
      ]
    },
    {
      "cell_type": "markdown",
      "metadata": {
        "id": "YxY6t7BFIZy2",
        "colab_type": "text"
      },
      "source": [
        "# Загрузка данных"
      ]
    },
    {
      "cell_type": "code",
      "metadata": {
        "id": "x0ntqECpzfG8",
        "colab_type": "code",
        "colab": {}
      },
      "source": [
        "pip install web3==4.2.1"
      ],
      "execution_count": 0,
      "outputs": []
    },
    {
      "cell_type": "code",
      "metadata": {
        "id": "HOklvXnu0Ksl",
        "colab_type": "code",
        "colab": {}
      },
      "source": [
        "from web3 import Web3 "
      ],
      "execution_count": 0,
      "outputs": []
    },
    {
      "cell_type": "code",
      "metadata": {
        "id": "-Wy95tPW24Ql",
        "colab_type": "code",
        "colab": {}
      },
      "source": [
        "web3 = Web3(Web3.HTTPProvider(\"https://mainnet.infura.io/v3/3ef73e5d5e8f40ac98b49047f6221faf\"))"
      ],
      "execution_count": 0,
      "outputs": []
    },
    {
      "cell_type": "code",
      "metadata": {
        "id": "kGyygHXr3cW8",
        "colab_type": "code",
        "colab": {}
      },
      "source": [
        "first_block = 8961400 - 1000 * (11 - 1)\n",
        "last_block = 8961400 - 1000 * (11 - 2)"
      ],
      "execution_count": 0,
      "outputs": []
    },
    {
      "cell_type": "code",
      "metadata": {
        "id": "HoTCmOH6UNxX",
        "colab_type": "code",
        "colab": {}
      },
      "source": [
        "from google.colab import drive\n",
        "drive.mount('/content/drive')"
      ],
      "execution_count": 0,
      "outputs": []
    },
    {
      "cell_type": "code",
      "metadata": {
        "id": "f55WflfUUTff",
        "colab_type": "code",
        "colab": {}
      },
      "source": [
        "#gasUsed_file = open('/content/drive/My Drive/Colab Notebooks/СПО/GasUsed.txt', 'w')\n",
        "#gasPrice_file = open('/content/drive/My Drive/Colab Notebooks/СПО/GasPrise.txt', 'w')"
      ],
      "execution_count": 0,
      "outputs": []
    },
    {
      "cell_type": "code",
      "metadata": {
        "id": "cM9byWohLv5P",
        "colab_type": "code",
        "outputId": "c031d912-90d0-4e8a-b574-f14a3f3dfd5d",
        "colab": {
          "base_uri": "https://localhost:8080/",
          "height": 50
        }
      },
      "source": [
        "%%time\n",
        "gasUsed = []\n",
        "gasPrice = []\n",
        "current_number = first_block\n",
        "while current_number < last_block:\n",
        "    current_block = web3.eth.getBlock(current_number)\n",
        "    for j in current_block['transactions']:\n",
        "        gasPrice.append(web3.eth.getTransaction(j)['gasPrice'])\n",
        "        gasUsed.append(web3.eth.getTransactionReceipt(j)['gasUsed'])\n",
        "    gasUsed_file.writelines(str(gasUsed))\n",
        "    gasUsed_file.write('\\n')\n",
        "    gasUsed = []\n",
        "    gasPrice_file.writelines(str(gasPrice))\n",
        "    gasPrice_file.write('\\n')\n",
        "    gasPrice = []\n",
        "    current_number += 1\n",
        "gasUsed_file.close()\n",
        "gasPrice_file.close()"
      ],
      "execution_count": 0,
      "outputs": [
        {
          "output_type": "stream",
          "text": [
            "CPU times: user 13min 45s, sys: 32.1 s, total: 14min 17s\n",
            "Wall time: 3h 17min 39s\n"
          ],
          "name": "stdout"
        }
      ]
    },
    {
      "cell_type": "markdown",
      "metadata": {
        "id": "UZJP0YyVIhg7",
        "colab_type": "text"
      },
      "source": [
        "# обработка данных"
      ]
    },
    {
      "cell_type": "code",
      "metadata": {
        "id": "zSNPN0kvKWsQ",
        "colab_type": "code",
        "colab": {}
      },
      "source": [
        "import numpy as np\n",
        "import matplotlib.pyplot as plt\n",
        "%matplotlib inline"
      ],
      "execution_count": 0,
      "outputs": []
    },
    {
      "cell_type": "code",
      "metadata": {
        "id": "giYtf19FIk3A",
        "colab_type": "code",
        "colab": {}
      },
      "source": [
        "gasUsed_file = open('/content/drive/My Drive/Colab Notebooks/СПО/GasUsed.txt', 'r')\n",
        "gasPrice_file = open('/content/drive/My Drive/Colab Notebooks/СПО/GasPrise.txt', 'r')"
      ],
      "execution_count": 0,
      "outputs": []
    },
    {
      "cell_type": "code",
      "metadata": {
        "id": "_uv7pQuRRnRr",
        "colab_type": "code",
        "colab": {}
      },
      "source": [
        "error = 0\n",
        "fee = []\n",
        "for i in range(1000):\n",
        "    gas_used_line = gasUsed_file.readline()\n",
        "    gas_price_line =  gasPrice_file.readline()\n",
        "    if gas_used_line == '[]\\n':\n",
        "        error += 1\n",
        "        continue\n",
        "    gas_used = gas_used_line.split(', ')\n",
        "    gas_used[0] = gas_used[0][1:]\n",
        "    gas_used[-1] = gas_used[-1][:-2]\n",
        "    gas_price = gas_price_line.split(', ')\n",
        "    gas_price[0] = gas_price[0][1:]\n",
        "    gas_price[-1] = gas_price[-1][:-2]\n",
        "    \n",
        "    gas_used = np.array(gas_used, dtype=int)\n",
        "    gas_price = np.array(gas_price, dtype=int)\n",
        "    fee.append(np.sum(gas_used*gas_price*(10**(-18))))\n"
      ],
      "execution_count": 0,
      "outputs": []
    },
    {
      "cell_type": "code",
      "metadata": {
        "id": "n-eP-E-jhYoi",
        "colab_type": "code",
        "colab": {}
      },
      "source": [
        "reward =np.array(fee) + 2"
      ],
      "execution_count": 0,
      "outputs": []
    },
    {
      "cell_type": "code",
      "metadata": {
        "id": "nb6Cz_bUx1SU",
        "colab_type": "code",
        "colab": {
          "base_uri": "https://localhost:8080/",
          "height": 606
        },
        "outputId": "6f93b6f6-eabb-44d6-bc36-113f9d4106f7"
      },
      "source": [
        "plt.figure(figsize=(10,10))\n",
        "plt.plot(reward)\n",
        "plt.ylabel('reward, ETH')\n",
        "plt.xlabel('number of block')\n",
        "plt.show()"
      ],
      "execution_count": 108,
      "outputs": [
        {
          "output_type": "display_data",
          "data": {
            "image/png": "[encoded data removed]",
            "text/plain": [
              "<Figure size 720x720 with 1 Axes>"
            ]
          },
          "metadata": {
            "tags": []
          }
        }
      ]
    },
    {
      "cell_type": "code",
      "metadata": {
        "id": "ItveeBnJ0_s0",
        "colab_type": "code",
        "colab": {}
      },
      "source": [
        "procent = fee / reward *100"
      ],
      "execution_count": 0,
      "outputs": []
    },
    {
      "cell_type": "code",
      "metadata": {
        "id": "Ek9InbRIys2W",
        "colab_type": "code",
        "colab": {}
      },
      "source": [
        "count = np.zeros(101)\n",
        "for i in procent:\n",
        "    for j in range(101):\n",
        "        if(((j - 0.5) < i) & (i <= (j + 0.5))):\n",
        "            count[j] +=1  "
      ],
      "execution_count": 0,
      "outputs": []
    },
    {
      "cell_type": "code",
      "metadata": {
        "id": "jmUJ2BNK1n5c",
        "colab_type": "code",
        "colab": {
          "base_uri": "https://localhost:8080/",
          "height": 606
        },
        "outputId": "90f16e04-6a47-4cb0-8302-b65936805c4b"
      },
      "source": [
        "x = np.arange(101)\n",
        "plt.figure(figsize=(10,10))\n",
        "plt.plot(x, count)\n",
        "plt.ylabel('Количество блоков')\n",
        "plt.xlabel('процент fee')\n",
        "plt.show()"
      ],
      "execution_count": 111,
      "outputs": [
        {
          "output_type": "display_data",
          "data": {
            "image/png": "[encoded data removed]",
            "text/plain": [
              "<Figure size 720x720 with 1 Axes>"
            ]
          },
          "metadata": {
            "tags": []
          }
        }
      ]
    },
    {
      "cell_type": "code",
      "metadata": {
        "id": "UiOYJTtu5bnJ",
        "colab_type": "code",
        "colab": {}
      },
      "source": [
        "mean = np.mean(fee)\n",
        "median = np.median(fee)\n",
        "scope = np.max(fee) - np.min(fee)\n",
        "D = np.var(fee)\n",
        "std = np.std(fee)"
      ],
      "execution_count": 0,
      "outputs": []
    },
    {
      "cell_type": "code",
      "metadata": {
        "id": "kqp6hgz59nzA",
        "colab_type": "code",
        "colab": {
          "base_uri": "https://localhost:8080/",
          "height": 101
        },
        "outputId": "411d5bad-5c29-4f87-d860-178dfbc2bc94"
      },
      "source": [
        "print('Математическое ожидание: {} \\nМедиана: {} \\nРазмах: {} \\nДисперсия: {}\\nCреднеквадратичное отклонение: {}'.format(mean, median, scope, D, std))"
      ],
      "execution_count": 114,
      "outputs": [
        {
          "output_type": "stream",
          "text": [
            "Математическое ожидание: 0.056239231164450745 \n",
            "Медиана: 0.04311263096370001 \n",
            "Размах: 0.4791833193607289 \n",
            "Дисперсия: 0.002086467254889065\n",
            "Cреднеквадратичное отклонение: 0.04567786394840574\n"
          ],
          "name": "stdout"
        }
      ]
    },
    {
      "cell_type": "markdown",
      "metadata": {
        "id": "fQYNWuq6Z96N",
        "colab_type": "text"
      },
      "source": [
        "# testing"
      ]
    },
    {
      "cell_type": "code",
      "metadata": {
        "id": "T6fhxOdA0Eco",
        "colab_type": "code",
        "colab": {}
      },
      "source": [
        "count = np.ndarray((100,))"
      ],
      "execution_count": 0,
      "outputs": []
    },
    {
      "cell_type": "code",
      "metadata": {
        "id": "dFeAqxwlJudT",
        "colab_type": "code",
        "colab": {}
      },
      "source": [
        "for i in range(7):\n",
        "    check = gasUsed_file.readline() \n",
        "    print(check)\n",
        "    if check == '[]\\n':\n",
        "        print('ошибочка')\n",
        "        continue\n",
        "    ren = check.split(', ')\n",
        "    print(ren)\n",
        "    ren[0] = ren[0][1:]\n",
        "    ren[-1] = ren[-1][:-2]\n",
        "    print(ren)\n",
        "    ara = np.array(ren, dtype=int)\n",
        "    print(ara)\n",
        "    print('\\n', '\\n')\n"
      ],
      "execution_count": 0,
      "outputs": []
    },
    {
      "cell_type": "code",
      "metadata": {
        "id": "g2118VlHLgOh",
        "colab_type": "code",
        "colab": {
          "base_uri": "https://localhost:8080/",
          "height": 34
        },
        "outputId": "9d686b78-f09f-4a68-d82f-8f41e402004e"
      },
      "source": [
        "ren[0][1:]"
      ],
      "execution_count": 26,
      "outputs": [
        {
          "output_type": "execute_result",
          "data": {
            "text/plain": [
              "'53401'"
            ]
          },
          "metadata": {
            "tags": []
          },
          "execution_count": 26
        }
      ]
    },
    {
      "cell_type": "code",
      "metadata": {
        "id": "iIXkYefILqth",
        "colab_type": "code",
        "colab": {
          "base_uri": "https://localhost:8080/",
          "height": 34
        },
        "outputId": "9063a247-344e-45cf-9db2-9f811464e2a1"
      },
      "source": [
        "ren[-1][:-2]"
      ],
      "execution_count": 32,
      "outputs": [
        {
          "output_type": "execute_result",
          "data": {
            "text/plain": [
              "'21000'"
            ]
          },
          "metadata": {
            "tags": []
          },
          "execution_count": 32
        }
      ]
    },
    {
      "cell_type": "code",
      "metadata": {
        "id": "K9CiWImdRD-3",
        "colab_type": "code",
        "colab": {
          "base_uri": "https://localhost:8080/",
          "height": 50
        },
        "outputId": "ec58ae59-bf20-474d-e4e4-a3b23fd98e14"
      },
      "source": [
        "a = np.array([1, 2, 4])\n",
        "b = np.array([2, 5, 6])\n",
        "c = a*b\n",
        "print(c)\n",
        "print(c/10)"
      ],
      "execution_count": 53,
      "outputs": [
        {
          "output_type": "stream",
          "text": [
            "[ 2 10 24]\n",
            "[0.2 1.  2.4]\n"
          ],
          "name": "stdout"
        }
      ]
    },
    {
      "cell_type": "code",
      "metadata": {
        "id": "tA80s61-9CAW",
        "colab_type": "code",
        "colab": {
          "base_uri": "https://localhost:8080/",
          "height": 252
        },
        "outputId": "76c15e69-ad84-44ff-bd1e-0677c1ce40e1"
      },
      "source": [
        " web3.eth.getTransaction('0xcf91315aa916442bde65c30a1af07e2b60b4cbeb10de0716a146f4d3598c7f21')"
      ],
      "execution_count": 78,
      "outputs": [
        {
          "output_type": "execute_result",
          "data": {
            "text/plain": [
              "AttributeDict({'blockHash': HexBytes('0x39baafecba209d88482b818f8fb5348909ab89ff0a08ad7244bbf5cb196bce67'),\n",
              " 'blockNumber': 9023039,\n",
              " 'from': '0x0Ff669980eb268dF71c04a3Ee23cf199E92C5c13',\n",
              " 'gas': 21000,\n",
              " 'gasPrice': 50000000000,\n",
              " 'hash': HexBytes('0xcf91315aa916442bde65c30a1af07e2b60b4cbeb10de0716a146f4d3598c7f21'),\n",
              " 'input': '0x',\n",
              " 'nonce': 0,\n",
              " 'r': HexBytes('0x295fea9f23a1eb0fe150332cb8653e746edfe79552ec9da98cedff17e1d5e676'),\n",
              " 's': HexBytes('0x63127b4db908df1e4a1bde60adf30336e44220b21dc26b0da1560b717e6b9c5c'),\n",
              " 'to': '0xd995Ea9d81529Eb59EE31B609E8A2E772df8D527',\n",
              " 'transactionIndex': 0,\n",
              " 'v': 38,\n",
              " 'value': 1162346260000000000})"
            ]
          },
          "metadata": {
            "tags": []
          },
          "execution_count": 78
        }
      ]
    },
    {
      "cell_type": "code",
      "metadata": {
        "id": "IPaBgZFlGLu6",
        "colab_type": "code",
        "colab": {
          "base_uri": "https://localhost:8080/",
          "height": 238
        },
        "outputId": "1a62bfdb-fbca-4443-9366-eec7631c5f81"
      },
      "source": [
        "web3.eth.getTransactionReceipt('0xcf91315aa916442bde65c30a1af07e2b60b4cbeb10de0716a146f4d3598c7f21')"
      ],
      "execution_count": 79,
      "outputs": [
        {
          "output_type": "execute_result",
          "data": {
            "text/plain": [
              "AttributeDict({'blockHash': HexBytes('0x39baafecba209d88482b818f8fb5348909ab89ff0a08ad7244bbf5cb196bce67'),\n",
              " 'blockNumber': 9023039,\n",
              " 'contractAddress': None,\n",
              " 'cumulativeGasUsed': 21000,\n",
              " 'from': '0x0ff669980eb268df71c04a3ee23cf199e92c5c13',\n",
              " 'gasUsed': 21000,\n",
              " 'logs': [],\n",
              " 'logsBloom': HexBytes('0x00000000000000000000000000000000000000000000000000000000000000000000000000000000000000000000000000000000000000000000000000000000000000000000000000000000000000000000000000000000000000000000000000000000000000000000000000000000000000000000000000000000000000000000000000000000000000000000000000000000000000000000000000000000000000000000000000000000000000000000000000000000000000000000000000000000000000000000000000000000000000000000000000000000000000000000000000000000000000000000000000000000000000000000000000000000'),\n",
              " 'status': 1,\n",
              " 'to': '0xd995ea9d81529eb59ee31b609e8a2e772df8d527',\n",
              " 'transactionHash': HexBytes('0xcf91315aa916442bde65c30a1af07e2b60b4cbeb10de0716a146f4d3598c7f21'),\n",
              " 'transactionIndex': 0})"
            ]
          },
          "metadata": {
            "tags": []
          },
          "execution_count": 79
        }
      ]
    },
    {
      "cell_type": "code",
      "metadata": {
        "id": "U1Aqdnv9JUlY",
        "colab_type": "code",
        "colab": {}
      },
      "source": [
        "gasused = 0\n",
        "for i in current['transactions']:\n",
        "    print(web3.eth.getTransaction(i)['gas'], web3.eth.getTransaction(i)['gasPrice'])\n",
        "    tic = web3.eth.getTransactionReceipt(i)\n",
        "    print(tic['gasUsed'], '\\n')\n",
        "    gasused += tic['gasUsed']\n",
        "print(gasused)"
      ],
      "execution_count": 0,
      "outputs": []
    },
    {
      "cell_type": "code",
      "metadata": {
        "id": "sPDgsW5Zaap2",
        "colab_type": "code",
        "outputId": "a6d100c2-0833-4354-bfe0-73e935b0face",
        "colab": {
          "base_uri": "https://localhost:8080/",
          "height": 50
        }
      },
      "source": [
        "print(first_block)\n",
        "print(last_block)"
      ],
      "execution_count": 0,
      "outputs": [
        {
          "output_type": "stream",
          "text": [
            "8951400\n",
            "8952400\n"
          ],
          "name": "stdout"
        }
      ]
    }
  ]
}